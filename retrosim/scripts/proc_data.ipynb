{
 "cells": [
  {
   "cell_type": "code",
   "execution_count": 1,
   "metadata": {
    "tags": []
   },
   "outputs": [],
   "source": [
    "from __future__ import print_function, absolute_import\n",
    "from rdkit import Chem\n",
    "from rdkit.Chem import AllChem\n",
    "import pandas as pd\n",
    "import _pickle as cPickle\n",
    "import numpy as np\n",
    "import re"
   ]
  },
  {
   "cell_type": "code",
   "execution_count": 2,
   "metadata": {},
   "outputs": [
    {
     "data": {
      "text/html": [
       "<div>\n",
       "<style scoped>\n",
       "    .dataframe tbody tr th:only-of-type {\n",
       "        vertical-align: middle;\n",
       "    }\n",
       "\n",
       "    .dataframe tbody tr th {\n",
       "        vertical-align: top;\n",
       "    }\n",
       "\n",
       "    .dataframe thead th {\n",
       "        text-align: right;\n",
       "    }\n",
       "</style>\n",
       "<table border=\"1\" class=\"dataframe\">\n",
       "  <thead>\n",
       "    <tr style=\"text-align: right;\">\n",
       "      <th></th>\n",
       "      <th>rxn_Class</th>\n",
       "      <th>patentID</th>\n",
       "      <th>rxnSmiles_Mapping_NameRxn</th>\n",
       "      <th>reactantSet_NameRxn</th>\n",
       "      <th>NameRxn_Mapping_Complete</th>\n",
       "      <th>rxnSmiles_Mapping_IndigoTK</th>\n",
       "      <th>reactantSet_IndigoTK</th>\n",
       "      <th>IndigoTK_Mapping_Complete</th>\n",
       "      <th>rxnSmiles_IndigoAutoMapperKNIME</th>\n",
       "      <th>reactantSet_IndigoAutoMapperKNIME</th>\n",
       "      <th>IndigoAutoMapperKNIME_Mapping_Complete</th>\n",
       "    </tr>\n",
       "  </thead>\n",
       "  <tbody>\n",
       "    <tr>\n",
       "      <th>0</th>\n",
       "      <td>6</td>\n",
       "      <td>US05849732</td>\n",
       "      <td>C.CCCCCC.CO.O=C(OCc1ccccc1)[NH:1][CH2:2][CH2:3...</td>\n",
       "      <td>{3, 4}</td>\n",
       "      <td>True</td>\n",
       "      <td>C(OC([NH:11][CH2:12][CH2:13][CH2:14][CH2:15][C...</td>\n",
       "      <td>set([0, 2])</td>\n",
       "      <td>True</td>\n",
       "      <td>C.CCCCCC.CO.[CH3:10][O:11][C:12]([C@@H:14]([NH...</td>\n",
       "      <td>set([3, 4])</td>\n",
       "      <td>True</td>\n",
       "    </tr>\n",
       "    <tr>\n",
       "      <th>1</th>\n",
       "      <td>2</td>\n",
       "      <td>US20120114765A1</td>\n",
       "      <td>O[C:1](=[O:2])[c:3]1[cH:4][c:5]([N+:6](=[O:7])...</td>\n",
       "      <td>{0, 1}</td>\n",
       "      <td>True</td>\n",
       "      <td>[Cl:1][c:2]1[cH:3][n:4][cH:5][c:6]([Cl:20])[c:...</td>\n",
       "      <td>set([0, 1])</td>\n",
       "      <td>True</td>\n",
       "      <td>[NH2:1][c:2]1[c:11]2[c:6]([cH:7][n:8][cH:9][cH...</td>\n",
       "      <td>set([0, 1])</td>\n",
       "      <td>True</td>\n",
       "    </tr>\n",
       "    <tr>\n",
       "      <th>2</th>\n",
       "      <td>1</td>\n",
       "      <td>US08003648B2</td>\n",
       "      <td>Cl.O=[CH:1][c:2]1[cH:3][cH:4][c:5](-[c:6]2[n:7...</td>\n",
       "      <td>{1, 3}</td>\n",
       "      <td>True</td>\n",
       "      <td>[CH2:1]([NH:3][CH2:4][CH3:5])[CH3:2].C([BH3-])...</td>\n",
       "      <td>set([0, 3])</td>\n",
       "      <td>True</td>\n",
       "      <td>[CH3:1][CH2:2][NH:3][CH2:4][CH3:5].[CH3:6][c:7...</td>\n",
       "      <td>set([0, 1])</td>\n",
       "      <td>True</td>\n",
       "    </tr>\n",
       "    <tr>\n",
       "      <th>3</th>\n",
       "      <td>1</td>\n",
       "      <td>US09045475B2</td>\n",
       "      <td>CC(=O)O[BH-](OC(C)=O)OC(C)=O.ClCCl.O=[C:1]([CH...</td>\n",
       "      <td>{2, 3}</td>\n",
       "      <td>True</td>\n",
       "      <td>[nH:1]1[c:5]2[n:6][cH:7][c:8]([O:10][c:11]3[cH...</td>\n",
       "      <td>set([0, 3])</td>\n",
       "      <td>True</td>\n",
       "      <td>CC(O[BH-](OC(=O)C)OC(=O)C)=O.[CH3:14][C:15]1([...</td>\n",
       "      <td>set([1, 3])</td>\n",
       "      <td>True</td>\n",
       "    </tr>\n",
       "    <tr>\n",
       "      <th>4</th>\n",
       "      <td>2</td>\n",
       "      <td>US08188098B2</td>\n",
       "      <td>CCN(C(C)C)C(C)C.ClCCl.Cl[C:1](=[O:2])[O:3][CH:...</td>\n",
       "      <td>{2, 5}</td>\n",
       "      <td>True</td>\n",
       "      <td>Cl[C:2]([O:4][CH:5]1[CH2:9][CH2:8][CH2:7][CH2:...</td>\n",
       "      <td>set([0, 2])</td>\n",
       "      <td>True</td>\n",
       "      <td>CCN(C(C)C)C(C)C.[CH3:10][CH2:11][O:12][c:13]1[...</td>\n",
       "      <td>set([1, 4])</td>\n",
       "      <td>True</td>\n",
       "    </tr>\n",
       "  </tbody>\n",
       "</table>\n",
       "</div>"
      ],
      "text/plain": [
       "   rxn_Class         patentID  \\\n",
       "0          6       US05849732   \n",
       "1          2  US20120114765A1   \n",
       "2          1     US08003648B2   \n",
       "3          1     US09045475B2   \n",
       "4          2     US08188098B2   \n",
       "\n",
       "                           rxnSmiles_Mapping_NameRxn reactantSet_NameRxn  \\\n",
       "0  C.CCCCCC.CO.O=C(OCc1ccccc1)[NH:1][CH2:2][CH2:3...              {3, 4}   \n",
       "1  O[C:1](=[O:2])[c:3]1[cH:4][c:5]([N+:6](=[O:7])...              {0, 1}   \n",
       "2  Cl.O=[CH:1][c:2]1[cH:3][cH:4][c:5](-[c:6]2[n:7...              {1, 3}   \n",
       "3  CC(=O)O[BH-](OC(C)=O)OC(C)=O.ClCCl.O=[C:1]([CH...              {2, 3}   \n",
       "4  CCN(C(C)C)C(C)C.ClCCl.Cl[C:1](=[O:2])[O:3][CH:...              {2, 5}   \n",
       "\n",
       "   NameRxn_Mapping_Complete  \\\n",
       "0                      True   \n",
       "1                      True   \n",
       "2                      True   \n",
       "3                      True   \n",
       "4                      True   \n",
       "\n",
       "                          rxnSmiles_Mapping_IndigoTK reactantSet_IndigoTK  \\\n",
       "0  C(OC([NH:11][CH2:12][CH2:13][CH2:14][CH2:15][C...          set([0, 2])   \n",
       "1  [Cl:1][c:2]1[cH:3][n:4][cH:5][c:6]([Cl:20])[c:...          set([0, 1])   \n",
       "2  [CH2:1]([NH:3][CH2:4][CH3:5])[CH3:2].C([BH3-])...          set([0, 3])   \n",
       "3  [nH:1]1[c:5]2[n:6][cH:7][c:8]([O:10][c:11]3[cH...          set([0, 3])   \n",
       "4  Cl[C:2]([O:4][CH:5]1[CH2:9][CH2:8][CH2:7][CH2:...          set([0, 2])   \n",
       "\n",
       "   IndigoTK_Mapping_Complete  \\\n",
       "0                       True   \n",
       "1                       True   \n",
       "2                       True   \n",
       "3                       True   \n",
       "4                       True   \n",
       "\n",
       "                     rxnSmiles_IndigoAutoMapperKNIME  \\\n",
       "0  C.CCCCCC.CO.[CH3:10][O:11][C:12]([C@@H:14]([NH...   \n",
       "1  [NH2:1][c:2]1[c:11]2[c:6]([cH:7][n:8][cH:9][cH...   \n",
       "2  [CH3:1][CH2:2][NH:3][CH2:4][CH3:5].[CH3:6][c:7...   \n",
       "3  CC(O[BH-](OC(=O)C)OC(=O)C)=O.[CH3:14][C:15]1([...   \n",
       "4  CCN(C(C)C)C(C)C.[CH3:10][CH2:11][O:12][c:13]1[...   \n",
       "\n",
       "  reactantSet_IndigoAutoMapperKNIME  IndigoAutoMapperKNIME_Mapping_Complete  \n",
       "0                       set([3, 4])                                    True  \n",
       "1                       set([0, 1])                                    True  \n",
       "2                       set([0, 1])                                    True  \n",
       "3                       set([1, 3])                                    True  \n",
       "4                       set([1, 4])                                    True  "
      ]
     },
     "execution_count": 2,
     "metadata": {},
     "output_type": "execute_result"
    }
   ],
   "source": [
    "# Load data from Schneider's 50k dataset\n",
    "dataSetB = pd.read_csv('../data/from_schneider/dataSetB.csv')\n",
    "dataSetB['reactantSet_NameRxn'] = [eval(x) for x in dataSetB['reactantSet_NameRxn']]\n",
    "dataSetB.head()"
   ]
  },
  {
   "cell_type": "code",
   "execution_count": 7,
   "metadata": {},
   "outputs": [
    {
     "data": {
      "text/plain": [
       "1     15140\n",
       "2     11889\n",
       "6      8232\n",
       "3      5654\n",
       "7      4610\n",
       "9      1842\n",
       "4       909\n",
       "8       821\n",
       "5       672\n",
       "10      231\n",
       "Name: rxn_Class, dtype: int64"
      ]
     },
     "execution_count": 7,
     "metadata": {},
     "output_type": "execute_result"
    }
   ],
   "source": [
    "# Class stats\n",
    "dataSetB['rxn_Class'].value_counts()"
   ]
  },
  {
   "cell_type": "code",
   "execution_count": 6,
   "metadata": {},
   "outputs": [],
   "source": [
    "a = 'O[C:1](=[O:2])[c:3]1[cH:4][c:5]([N+:6](=[O:7])[O-:8])[c:9]([S:10][c:11]2[c:12]([Cl:13])[cH:14][n:15][cH:16][c:17]2[Cl:18])[s:19]1.[NH2:20][c:21]1[cH:22][cH:23][cH:24][c:25]2[cH:26][n:27][cH:28][cH:29][c:30]12>>[C:1](=[O:2])([c:3]1[cH:4][c:5]([N+:6](=[O:7])[O-:8])[c:9]([S:10][c:11]2[c:12]([Cl:13])[cH:14][n:15][cH:16][c:17]2[Cl:18])[s:19]1)[NH:20][c:21]1[cH:22][cH:23][cH:24][c:25]2[cH:26][n:27][cH:28][cH:29][c:30]12'\n",
    "all_reactants, all_products = a.split('>>')"
   ]
  },
  {
   "cell_type": "code",
   "execution_count": 8,
   "metadata": {},
   "outputs": [
    {
     "data": {
      "text/plain": [
       "[<rdkit.Chem.rdchem.Mol at 0x7fc3f7708490>,\n",
       " <rdkit.Chem.rdchem.Mol at 0x7fc3f59a0d00>]"
      ]
     },
     "execution_count": 8,
     "metadata": {},
     "output_type": "execute_result"
    }
   ],
   "source": [
    "products = [Chem.MolFromSmiles(smi) for smi in all_reactants.split('.')] \n",
    "products"
   ]
  },
  {
   "cell_type": "code",
   "execution_count": 9,
   "metadata": {},
   "outputs": [
    {
     "name": "stdout",
     "output_type": "stream",
     "text": [
      "O[C:1](=[O:2])[c:3]1[cH:4][c:5]([N+:6](=[O:7])[O-:8])[c:9]([S:10][c:11]2[c:12]([Cl:13])[cH:14][n:15][cH:16][c:17]2[Cl:18])[s:19]1\n",
      "[NH2:20][c:21]1[cH:22][cH:23][cH:24][c:25]2[cH:26][n:27][cH:28][cH:29][c:30]12\n"
     ]
    }
   ],
   "source": [
    "for prod in products:\n",
    "    prod_smi = Chem.MolToSmiles(prod, True)  \n",
    "    print(prod_smi)"
   ]
  },
  {
   "cell_type": "code",
   "execution_count": 10,
   "metadata": {},
   "outputs": [],
   "source": [
    "b = 'CCO.[OH-].[OH-].[Pd+2].c1ccc(C[N:1]2[CH2:2][CH2:3][CH:4]([N:5]([CH2:6][CH3:7])[c:8]3[n:9][c:10]([F:11])[cH:12][cH:13][c:14]3[NH:15][CH:16]([CH3:17])[CH3:18])[CH2:19][CH2:20]2)cc1>>[NH:1]1[CH2:2][CH2:3][CH:4]([N:5]([CH2:6][CH3:7])[c:8]2[n:9][c:10]([F:11])[cH:12][cH:13][c:14]2[NH:15][CH:16]([CH3:17])[CH3:18])[CH2:19][CH2:20]1'\n",
    "all_reactants, all_products = b.split('>>')"
   ]
  },
  {
   "cell_type": "code",
   "execution_count": 11,
   "metadata": {},
   "outputs": [
    {
     "data": {
      "text/plain": [
       "[<rdkit.Chem.rdchem.Mol at 0x7fc3f5931da0>,\n",
       " <rdkit.Chem.rdchem.Mol at 0x7fc3f5931d50>,\n",
       " <rdkit.Chem.rdchem.Mol at 0x7fc3f5931d00>,\n",
       " <rdkit.Chem.rdchem.Mol at 0x7fc3f5931df0>,\n",
       " <rdkit.Chem.rdchem.Mol at 0x7fc3f5931e40>]"
      ]
     },
     "execution_count": 11,
     "metadata": {},
     "output_type": "execute_result"
    }
   ],
   "source": [
    "products = [Chem.MolFromSmiles(smi) for smi in all_reactants.split('.')] \n",
    "products"
   ]
  },
  {
   "cell_type": "code",
   "execution_count": 12,
   "metadata": {},
   "outputs": [
    {
     "name": "stdout",
     "output_type": "stream",
     "text": [
      "CCO\n",
      "[OH-]\n",
      "[OH-]\n",
      "[Pd+2]\n",
      "c1ccc(C[N:1]2[CH2:2][CH2:3][CH:4]([N:5]([CH2:6][CH3:7])[c:8]3[n:9][c:10]([F:11])[cH:12][cH:13][c:14]3[NH:15][CH:16]([CH3:17])[CH3:18])[CH2:19][CH2:20]2)cc1\n"
     ]
    }
   ],
   "source": [
    "for prod in products:\n",
    "    prod_smi = Chem.MolToSmiles(prod, True)  \n",
    "    print(prod_smi)"
   ]
  },
  {
   "cell_type": "code",
   "execution_count": 15,
   "metadata": {},
   "outputs": [
    {
     "name": "stdout",
     "output_type": "stream",
     "text": [
      "On index 0\n"
     ]
    },
    {
     "name": "stderr",
     "output_type": "stream",
     "text": [
      "/root/miniconda3/envs/rdenv/lib/python3.7/site-packages/ipykernel_launcher.py:27: FutureWarning: Possible nested set at position 4\n"
     ]
    },
    {
     "name": "stdout",
     "output_type": "stream",
     "text": [
      "On index 5000\n",
      "On index 10000\n",
      "On index 15000\n",
      "On index 20000\n",
      "On index 25000\n",
      "On index 30000\n",
      "On index 35000\n",
      "On index 40000\n",
      "On index 45000\n"
     ]
    }
   ],
   "source": [
    "# Create new df from old (minor processing)\n",
    "classes = []\n",
    "ids = [] \n",
    "rxn_smiles = []\n",
    "prod_smiles = []\n",
    "for row in dataSetB.itertuples():                                                       # 遍历的方法\n",
    "    if row[0] % 5000 == 0:\n",
    "        print('On index {:d}'.format(int(row[0])))\n",
    "        \n",
    "    all_reactants, all_products = row[3].split('>>')\n",
    "    products = [Chem.MolFromSmiles(smi) for smi in all_products.split('.')]     # 用rdkit把products全都从smiles转换成mol\n",
    "                                                                                # 把含有\".\"的产物分成多个单个的products\n",
    "    # Multiple products = enumerate\n",
    "    for prod in products:\n",
    "        \n",
    "        # Make sure all have atom mapping\n",
    "        if not all([a.HasProp('molAtomMapNumber') for a in prod.GetAtoms()]):   # 确认每个产物的每个原子是否有atom mapping\n",
    "            continue                                                            # 如果没有，就跳到下一个product\n",
    "        \n",
    "        prod_smi = Chem.MolToSmiles(prod, True)                                 # True：通过使用双键代替小写的碳原子来表示芳香性\n",
    "        \n",
    "        # Re-parse reactants for each product so we can clear maps              ### 在第四列的集合中的数字，才是需要的反应物的索引\n",
    "        reactants = [Chem.MolFromSmiles(smi) for (i, smi) in enumerate(\n",
    "            all_reactants.split('.')) if i in row[4]]\n",
    "        \n",
    "        # Get rid of reactants when they don't contribute to this prod          \n",
    "        prod_maps = set(re.findall('\\:([[0-9]+)\\]', prod_smi))                  # 找到含有 :数字] 的， 做成一个map number 集合， 即为 prod_maps\n",
    "        reactants_smi_list = []                                                 \n",
    "        for mol in reactants:                                                   # 如果反应物中，有原子有map number，获取它的map number\n",
    "            used = False                                                        # 若它的map number在prod_maps 中， 则有使用该反应物\n",
    "            for a in mol.GetAtoms():\n",
    "                if a.HasProp('molAtomMapNumber'):       \n",
    "                    if a.GetProp('molAtomMapNumber') in prod_maps:\n",
    "                        used = True \n",
    "                    else:\n",
    "                        a.ClearProp('molAtomMapNumber')                         # 若它的map number不在prod_maps 中，则清除它的map number\n",
    "            if used:\n",
    "                reactants_smi_list.append(Chem.MolToSmiles(mol, True))          # 若有使用该反应物，就将其添加到 reactans_smi_list列表中\n",
    "                \n",
    "        reactants_smi = '.'.join(reactants_smi_list)                            # 用'.'将所有的反应物连起来\n",
    "        \n",
    "        # Was this just a spectator? Some examples are HCl>>HCl                 # 不参与反应的，从反应物中去掉。\n",
    "        if reactants_smi == prod_smi:                                           \n",
    "            continue\n",
    "        \n",
    "        # Append to ongoing list                                                # 把反应类型和id拉回来\n",
    "        classes.append(row[1])\n",
    "        ids.append(row[2])  \n",
    "        rxn_smiles.append('{}>>{}'.format(reactants_smi, prod_smi))             # 用 >> 连接 reactants_smi 和 prod_smi ， 添加到rxn_smiles\n",
    "        # Save non-mapped prod too\n",
    "        [a.ClearProp('molAtomMapNumber') for a in prod.GetAtoms()]              \n",
    "        prod_smiles.append(Chem.MolToSmiles(prod, True))                        # 将去掉 map number 的  产物， 添加到 prod_smiels\n",
    "        \n",
    "data = pd.DataFrame({'class': classes, \n",
    "                     'id': ids, \n",
    "                     'rxn_smiles': rxn_smiles,\n",
    "                     'prod_smiles': prod_smiles})"
   ]
  },
  {
   "cell_type": "code",
   "execution_count": 9,
   "metadata": {},
   "outputs": [
    {
     "data": {
      "text/plain": [
       "1     15247\n",
       "2     11906\n",
       "6      8237\n",
       "3      5666\n",
       "7      4614\n",
       "9      1834\n",
       "4       909\n",
       "8       811\n",
       "5       672\n",
       "10      230\n",
       "Name: class, dtype: int64"
      ]
     },
     "execution_count": 9,
     "metadata": {},
     "output_type": "execute_result"
    }
   ],
   "source": [
    "data['class'].value_counts()"
   ]
  },
  {
   "cell_type": "code",
   "execution_count": 19,
   "metadata": {},
   "outputs": [
    {
     "name": "stdout",
     "output_type": "stream",
     "text": [
      "[('[Br-]', 48), ('[I-]', 26), ('[Cl-]', 19), ('Cl', 17), ('CC(C)(C)OC(=O)N1CCC(CO)CC1', 6), ('Cc1cccc(C2CC2)c1Oc1nnc(Cl)cc1O', 4), ('Cc1ccc(-c2ccccc2C#N)cc1', 4), ('COc1cc2nccc(Oc3ccc(N)cc3)c2cc1OC', 4), ('COC(=O)c1cccc(N)c1N', 4), ('CN(C)CCn1cc(B2OC(C)(C)C(C)(C)O2)cn1', 3), ('OC(c1ccccc1)c1ccccc1', 3), ('COc1ccc(-c2ccccc2)cc1', 3), ('O=C(NC(CC1C(=O)Nc2ccccc21)C(=O)O)c1ccc(Cl)cc1', 3), ('c1ccc(Pc2ccccc2)cc1', 3), ('Cc1noc(NS(=O)(=O)c2cc(Cl)ccc2Cl)c1Br', 3), ('Cc1ccc(N)c(N)n1', 3), ('O=C(NCCN1CCOCC1)c1ccc(Cl)cc1', 3), ('CC(C)(C)OC(=O)N1CCC(CCO)CC1', 3), ('CC(C)(C)OC(=O)N1CCN(Cc2ccc(Br)cc2)CC1', 3), ('O=C(O)CCCCCNC(=O)C(F)(F)F', 3), ('CC(C)(C)OC(=O)c1ccc(CBr)cc1', 3), ('CC(C)(C)OC(=O)N[C@@H](CC(=O)N1CCn2c(nnc2C(F)(F)F)C1)Cc1cc(F)c(F)cc1F', 3), ('c1ccc(C(c2ccccc2)(c2ccccc2)n2ccnc2)cc1', 3), ('Fc1cc(Br)ccc1OCc1ccccc1', 3), ('Nc1cc(Br)ccc1O', 3)]\n"
     ]
    }
   ],
   "source": [
    "# Find most popular product smiles (probably frags/salts)\n",
    "from collections import Counter\n",
    "prod_smi_counter = Counter(data['prod_smiles'])                 \n",
    "print(prod_smi_counter.most_common(25))                         # 还有这种用法！"
   ]
  },
  {
   "cell_type": "code",
   "execution_count": 23,
   "metadata": {},
   "outputs": [
    {
     "data": {
      "text/html": [
       "<div>\n",
       "<style scoped>\n",
       "    .dataframe tbody tr th:only-of-type {\n",
       "        vertical-align: middle;\n",
       "    }\n",
       "\n",
       "    .dataframe tbody tr th {\n",
       "        vertical-align: top;\n",
       "    }\n",
       "\n",
       "    .dataframe thead th {\n",
       "        text-align: right;\n",
       "    }\n",
       "</style>\n",
       "<table border=\"1\" class=\"dataframe\">\n",
       "  <thead>\n",
       "    <tr style=\"text-align: right;\">\n",
       "      <th></th>\n",
       "      <th>class</th>\n",
       "      <th>id</th>\n",
       "      <th>rxn_smiles</th>\n",
       "      <th>prod_smiles</th>\n",
       "      <th>prod_smiles_pop</th>\n",
       "      <th>keep</th>\n",
       "    </tr>\n",
       "  </thead>\n",
       "  <tbody>\n",
       "    <tr>\n",
       "      <th>0</th>\n",
       "      <td>6</td>\n",
       "      <td>US05849732</td>\n",
       "      <td>O=C(OCc1ccccc1)[NH:1][CH2:2][CH2:3][CH2:4][CH2...</td>\n",
       "      <td>COC(=O)[C@H](CCCCN)NC(=O)Nc1cc(OC)cc(C(C)(C)C)c1O</td>\n",
       "      <td>1</td>\n",
       "      <td>True</td>\n",
       "    </tr>\n",
       "    <tr>\n",
       "      <th>1</th>\n",
       "      <td>2</td>\n",
       "      <td>US20120114765A1</td>\n",
       "      <td>O[C:1](=[O:2])[c:3]1[cH:4][c:5]([N+:6](=[O:7])...</td>\n",
       "      <td>O=C(Nc1cccc2cnccc12)c1cc([N+](=O)[O-])c(Sc2c(C...</td>\n",
       "      <td>1</td>\n",
       "      <td>True</td>\n",
       "    </tr>\n",
       "    <tr>\n",
       "      <th>2</th>\n",
       "      <td>1</td>\n",
       "      <td>US08003648B2</td>\n",
       "      <td>O=[CH:1][c:2]1[cH:3][cH:4][c:5](-[c:6]2[n:7][c...</td>\n",
       "      <td>CCN(CC)Cc1ccc(-c2nc(C)c(COc3ccc([C@H](CC(=O)N4...</td>\n",
       "      <td>1</td>\n",
       "      <td>True</td>\n",
       "    </tr>\n",
       "    <tr>\n",
       "      <th>3</th>\n",
       "      <td>1</td>\n",
       "      <td>US09045475B2</td>\n",
       "      <td>O=[C:1]([CH2:2][F:3])[CH2:4][F:5].[CH3:6][C:7]...</td>\n",
       "      <td>CC1(C)CCC(CN2CCN(c3ccc(C(=O)NS(=O)(=O)c4ccc(NC...</td>\n",
       "      <td>1</td>\n",
       "      <td>True</td>\n",
       "    </tr>\n",
       "    <tr>\n",
       "      <th>4</th>\n",
       "      <td>2</td>\n",
       "      <td>US08188098B2</td>\n",
       "      <td>Cl[C:1](=[O:2])[O:3][CH:4]1[CH2:5][CH2:6][CH2:...</td>\n",
       "      <td>CCOc1ccc(Oc2ncnc3c2cnn3C2CCN(C(=O)OC3CCCC3)CC2...</td>\n",
       "      <td>1</td>\n",
       "      <td>True</td>\n",
       "    </tr>\n",
       "  </tbody>\n",
       "</table>\n",
       "</div>"
      ],
      "text/plain": [
       "   class               id                                         rxn_smiles  \\\n",
       "0      6       US05849732  O=C(OCc1ccccc1)[NH:1][CH2:2][CH2:3][CH2:4][CH2...   \n",
       "1      2  US20120114765A1  O[C:1](=[O:2])[c:3]1[cH:4][c:5]([N+:6](=[O:7])...   \n",
       "2      1     US08003648B2  O=[CH:1][c:2]1[cH:3][cH:4][c:5](-[c:6]2[n:7][c...   \n",
       "3      1     US09045475B2  O=[C:1]([CH2:2][F:3])[CH2:4][F:5].[CH3:6][C:7]...   \n",
       "4      2     US08188098B2  Cl[C:1](=[O:2])[O:3][CH:4]1[CH2:5][CH2:6][CH2:...   \n",
       "\n",
       "                                         prod_smiles  prod_smiles_pop  keep  \n",
       "0  COC(=O)[C@H](CCCCN)NC(=O)Nc1cc(OC)cc(C(C)(C)C)c1O                1  True  \n",
       "1  O=C(Nc1cccc2cnccc12)c1cc([N+](=O)[O-])c(Sc2c(C...                1  True  \n",
       "2  CCN(CC)Cc1ccc(-c2nc(C)c(COc3ccc([C@H](CC(=O)N4...                1  True  \n",
       "3  CC1(C)CCC(CN2CCN(c3ccc(C(=O)NS(=O)(=O)c4ccc(NC...                1  True  \n",
       "4  CCOc1ccc(Oc2ncnc3c2cnn3C2CCN(C(=O)OC3CCCC3)CC2...                1  True  "
      ]
     },
     "execution_count": 23,
     "metadata": {},
     "output_type": "execute_result"
    }
   ],
   "source": [
    "data.head()"
   ]
  },
  {
   "cell_type": "code",
   "execution_count": 22,
   "metadata": {},
   "outputs": [
    {
     "data": {
      "text/plain": [
       "1     15150\n",
       "2     11893\n",
       "6      8237\n",
       "3      5661\n",
       "7      4613\n",
       "9      1834\n",
       "4       909\n",
       "8       811\n",
       "5       672\n",
       "10      230\n",
       "Name: class, dtype: int64"
      ]
     },
     "execution_count": 22,
     "metadata": {},
     "output_type": "execute_result"
    }
   ],
   "source": [
    "# counter 统计 各product 出现的次数，并保留 出现次数小于10次， 且 prod_smiles 长度大于5 的产物。 \n",
    "data['prod_smiles_pop'] = [prod_smi_counter[smi] for smi in data['prod_smiles']]\n",
    "data['keep'] = [x[5] < 10 and  \n",
    "                len(x[4]) >= 5 \n",
    "                for x in data.itertuples()]\n",
    "\n",
    "data.loc[data['keep']]['class'].value_counts()"
   ]
  },
  {
   "cell_type": "code",
   "execution_count": 12,
   "metadata": {
    "collapsed": true,
    "jupyter": {
     "outputs_hidden": true
    }
   },
   "outputs": [],
   "source": [
    "data.loc[data['keep']].to_csv('../data/data_processed1.csv')"
   ]
  }
 ],
 "metadata": {
  "kernelspec": {
   "display_name": "Python 3 (ipykernel)",
   "language": "python",
   "name": "python3"
  },
  "language_info": {
   "codemirror_mode": {
    "name": "ipython",
    "version": 3
   },
   "file_extension": ".py",
   "mimetype": "text/x-python",
   "name": "python",
   "nbconvert_exporter": "python",
   "pygments_lexer": "ipython3",
   "version": "3.7.12"
  }
 },
 "nbformat": 4,
 "nbformat_minor": 4
}
